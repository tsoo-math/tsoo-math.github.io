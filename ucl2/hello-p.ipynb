{
 "cells": [
  {
   "cell_type": "markdown",
   "id": "ddbb2edf",
   "metadata": {},
   "source": [
    "# Hello-Python\n",
    "\n",
    "## Introduction\n",
    "\n",
    "I would like to get know you a bit.  But first, install a variation of Python and Juptyer notebook, for example [Anaconda](https://www.anaconda.com/)\n",
    "\n",
    "## Getting to know you\n",
    "\n",
    "Please send me an *html* generated using Jupyter notebook with the following information.  It might be helpful to use this [source](https://tsoo-math.github.io/ucl2/hello-p.ipynb) file as a template.\n",
    "\n",
    "* Name\n",
    "* Have you used Python before?\n",
    "* Do you prefer R or Python?\n",
    "* Can you see the difference between this X and this $X$?  "
   ]
  },
  {
   "cell_type": "code",
   "execution_count": 1,
   "id": "1d82b0e9",
   "metadata": {},
   "outputs": [
    {
     "name": "stdout",
     "output_type": "stream",
     "text": [
      "2021-09-23 23:53:46.474819\n"
     ]
    }
   ],
   "source": [
    "from datetime import datetime\n",
    "print(datetime.now())"
   ]
  },
  {
   "cell_type": "code",
   "execution_count": null,
   "id": "6db2b7c8",
   "metadata": {},
   "outputs": [],
   "source": []
  }
 ],
 "metadata": {
  "kernelspec": {
   "display_name": "Python 3",
   "language": "python",
   "name": "python3"
  },
  "language_info": {
   "codemirror_mode": {
    "name": "ipython",
    "version": 3
   },
   "file_extension": ".py",
   "mimetype": "text/x-python",
   "name": "python",
   "nbconvert_exporter": "python",
   "pygments_lexer": "ipython3",
   "version": "3.8.8"
  }
 },
 "nbformat": 4,
 "nbformat_minor": 5
}
