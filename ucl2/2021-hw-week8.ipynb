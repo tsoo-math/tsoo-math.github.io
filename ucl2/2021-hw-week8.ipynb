{
 "cells": [
  {
   "cell_type": "markdown",
   "id": "f65b6e32",
   "metadata": {},
   "source": [
    "# [Homework Week 8](https://tsoo-math.github.io/ucl2/2021-HW-week8.html)\n",
    "\n",
    "For complete written solutions, please [see](https://tsoo-math.github.io/ucl/QHW3-sol.html).  We will mainly be concerned with the Python code here."
   ]
  },
  {
   "cell_type": "markdown",
   "id": "77ad40f0",
   "metadata": {},
   "source": [
    "## A Markov chain\n",
    "\n",
    "The following codes a Markov chain in Python; we run the chain for $n$ steps, and when $n$ is large, we find that the total  number of visits $v(i)$ to a state $i$ is such that $v(i)/n \\approx \\pi(i)$, where $\\pi$ is the stationary distribution, which agrees with a version of law of large number for Markov chains.   We also check a version of the law of large numbers for the number of transitions from state $1$ to $3$."
   ]
  },
  {
   "cell_type": "code",
   "execution_count": 1,
   "id": "5cd0cba9",
   "metadata": {},
   "outputs": [
    {
     "name": "stdout",
     "output_type": "stream",
     "text": [
      "[[0.25       0.25       0.5        0.         0.        ]\n",
      " [0.25       0.25       0.         0.         0.5       ]\n",
      " [0.25       0.         0.         0.5        0.25      ]\n",
      " [0.         0.         0.         0.5        0.5       ]\n",
      " [0.33333333 0.33333333 0.         0.         0.33333333]]\n",
      "[0.25 0.25 0.   0.   0.5 ]\n",
      "[0.33333333 0.33333333 0.         0.         0.33333333]\n",
      "(array([1, 2, 3, 4, 5]), array([24454, 21329, 12211, 12282, 29725], dtype=int64))\n",
      "[0.24454 0.21329 0.12211 0.12282 0.29725]\n"
     ]
    },
    {
     "data": {
      "text/plain": [
       "array([-0.00047167,  0.00025083,  0.00016   , -0.000355  ,  0.00041583])"
      ]
     },
     "execution_count": 1,
     "metadata": {},
     "output_type": "execute_result"
    }
   ],
   "source": [
    "import numpy as np\n",
    "\n",
    "P = np.array( [np.array([1/4, 1/4, 1/2, 0,0]), \n",
    "              np.array([1/4, 1/4, 0,0,1/2]), np.array([1/4,0,0,1/2,1/4]), np.array([0,0,0,1/2, 1/2]), np.array([1/3,1/3,0,0,1/3] ) ]  )\n",
    "print(P)\n",
    "print(P[1])\n",
    "print(P[4])\n",
    "\n",
    "\n",
    "\n",
    "def step(i):    # advancing the MC by one step, when you are at state i\n",
    "    q = P[i-1]    # this the transition vector for state i\n",
    "    x=-1\n",
    "    u = np.random.uniform()   # imagine the interval [0,1] split up into smaller intervals with probabilities q_j summing to 1\n",
    "    j=0\n",
    "    cumq = np.cumsum(q)\n",
    "    while(x==-1):            \n",
    "        j = j+1\n",
    "        if (u <= cumq[j-1]):        # if u lands in the interval of length q_j, then we jump to state j\n",
    "            x = j\n",
    "    return x\n",
    "\n",
    "def steps(i,n):  # advances the MC by n steps, starting at state i, keeping a complete history\n",
    "    x = np.array([i])\n",
    "    for j in range(n):\n",
    "        x = np.append(x,  step(x[j])   )\n",
    "    return x\n",
    "\n",
    "# print(steps(1,100))\n",
    "\n",
    "mc = steps(1,100000)\n",
    "\n",
    "freq = np.unique(mc,return_counts = True)   # returns a frequency count\n",
    "print(freq)\n",
    "stat = (1/100000)*np.array(  [  freq[1][0] , freq[1][1] , freq[1][2] , freq[1][3] , freq[1][4]      ])  # approximation of the stationary distribution\n",
    "print(stat)\n",
    "stat\n",
    "\n",
    "np.matmul(stat,P) - stat    # checking  "
   ]
  },
  {
   "cell_type": "code",
   "execution_count": 2,
   "id": "644fb57f",
   "metadata": {},
   "outputs": [
    {
     "name": "stdout",
     "output_type": "stream",
     "text": [
      "0.0002500000000000002\n"
     ]
    }
   ],
   "source": [
    "def onethree(n):\n",
    "    mc= steps(1,n)\n",
    "    onethree=0\n",
    "    for i in range(n):\n",
    "        if (mc[i]==1 and mc[i+1]==3):\n",
    "            onethree = onethree +1\n",
    "    return onethree\n",
    "\n",
    "\n",
    "print(onethree(50000)/50000  - P[1-1, 3-1]*stat[1-1])"
   ]
  },
  {
   "cell_type": "markdown",
   "id": "6273e87c",
   "metadata": {},
   "source": [
    "## Gibbs sampler\n",
    "\n",
    "Our analysis here will be slightly different than in the R version; instead of running the Gibbs sampler for a $100$ steps, recording the output, and then repeating this procedure $10000$ times, we will just run the Gibbs sampler for $10000$ steps, and appeal to a version of the law of large numbers of Markov chains."
   ]
  },
  {
   "cell_type": "code",
   "execution_count": 3,
   "id": "8b9b46b4",
   "metadata": {},
   "outputs": [
    {
     "name": "stdout",
     "output_type": "stream",
     "text": [
      "0.0015000000000000013\n",
      "0.00040000000000001146\n",
      "0.007000000000000006\n",
      "-0.008900000000000005\n"
     ]
    }
   ],
   "source": [
    "\n",
    "\n",
    "def fwz(z):\n",
    "    if z==0:\n",
    "        w = np.random.binomial(1, 2/5,1)\n",
    "    else:\n",
    "        w = np.random.binomial(1, 2/3,1)\n",
    "    return w\n",
    "\n",
    "def fzw(w):\n",
    "    if w==0:\n",
    "        z = np.random.binomial(1,1/4,1)\n",
    "    else:\n",
    "        z = np.random.binomial(1,1/2,1)\n",
    "    return z\n",
    "\n",
    "\n",
    "def gibbs(n):\n",
    "    w=np.array([1])\n",
    "    x=w\n",
    "    y = fzw(x[0])\n",
    "    for i in range(n):\n",
    "        x = np.append(x, fwz(y[i]) )\n",
    "        y = np.append(y, fzw(x[i+1]) )\n",
    "    return [x,y]\n",
    "\n",
    "\n",
    "\n",
    "g=gibbs(10000)\n",
    "counts11 = 0\n",
    "for i in range(10000):\n",
    "    if (g[0][i]==1 and g[1][i]==1 ):\n",
    "        counts11 = counts11 +1\n",
    "print(counts11/10000 -1/4)\n",
    "\n",
    "counts10 = 0\n",
    "for i in range(10000):\n",
    "    if (g[0][i]==1 and g[1][i]==0 ):\n",
    "        counts10 = counts10 +1\n",
    "print(counts10/10000-1/4)\n",
    "\n",
    "counts00 = 0\n",
    "for i in range(10000):\n",
    "    if (g[0][i]==0 and g[1][i]==0 ):\n",
    "        counts00 = counts00 +1\n",
    "print(counts00/10000-3/8)\n",
    "\n",
    "counts01 = 0\n",
    "for i in range(10000):\n",
    "    if (g[0][i]==0 and g[1][i]==1 ):\n",
    "        counts01 = counts01 +1\n",
    "print(counts01/10000-1/8)"
   ]
  },
  {
   "cell_type": "code",
   "execution_count": null,
   "id": "94c31594",
   "metadata": {},
   "outputs": [],
   "source": []
  },
  {
   "cell_type": "markdown",
   "id": "c542b953",
   "metadata": {},
   "source": [
    "## Simple card shuffling"
   ]
  },
  {
   "cell_type": "code",
   "execution_count": 10,
   "id": "16e6098b",
   "metadata": {},
   "outputs": [
    {
     "name": "stdout",
     "output_type": "stream",
     "text": [
      "[1, 2, 3, 4]\n",
      "[2, 3]\n",
      "[1, 2, 4, 3]\n"
     ]
    }
   ],
   "source": [
    "import random\n",
    "\n",
    "deck = list( range(1,5))\n",
    "print(deck)\n",
    "\n",
    "\n",
    "print(random.sample(range(1,5), 2))\n",
    "\n",
    "\n",
    "def shuffle(x):\n",
    "    if np.random.binomial(1,1/2,1)==1:\n",
    "        t=random.sample(range(1,5), 2)\n",
    "        a= t[0]\n",
    "        b= t[1]\n",
    "        da = x[a-1]\n",
    "        db = x[b-1]\n",
    "        x[a-1]=db\n",
    "        x[b-1]=da\n",
    "    return x\n",
    "\n",
    "print (shuffle(deck))\n",
    "\n",
    "def coupled\n",
    "    \n",
    "    "
   ]
  },
  {
   "cell_type": "markdown",
   "id": "d0bd813a",
   "metadata": {},
   "source": [
    "## Endnotes\n",
    "\n",
    "Use the ipynb [source](https://tsoo-math.github.io/ucl2/2021-hw-week8.ipynb) for the most update version."
   ]
  },
  {
   "cell_type": "code",
   "execution_count": 11,
   "id": "c5df0845",
   "metadata": {},
   "outputs": [
    {
     "name": "stdout",
     "output_type": "stream",
     "text": [
      "2021-10-15 00:44:44.195102\n"
     ]
    }
   ],
   "source": [
    "from datetime import datetime\n",
    "print(datetime.now())"
   ]
  },
  {
   "cell_type": "code",
   "execution_count": null,
   "id": "2bd8c65d",
   "metadata": {},
   "outputs": [],
   "source": []
  },
  {
   "cell_type": "code",
   "execution_count": null,
   "id": "2330adda",
   "metadata": {},
   "outputs": [],
   "source": []
  },
  {
   "cell_type": "code",
   "execution_count": null,
   "id": "3bf4bfe2",
   "metadata": {},
   "outputs": [],
   "source": []
  }
 ],
 "metadata": {
  "kernelspec": {
   "display_name": "Python 3",
   "language": "python",
   "name": "python3"
  },
  "language_info": {
   "codemirror_mode": {
    "name": "ipython",
    "version": 3
   },
   "file_extension": ".py",
   "mimetype": "text/x-python",
   "name": "python",
   "nbconvert_exporter": "python",
   "pygments_lexer": "ipython3",
   "version": "3.8.8"
  }
 },
 "nbformat": 4,
 "nbformat_minor": 5
}
