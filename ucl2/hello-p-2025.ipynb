{
 "cells": [
  {
   "cell_type": "markdown",
   "id": "ddbb2edf",
   "metadata": {},
   "source": [
    "# Hello-Python\n",
    "\n",
    "## Install Python\n",
    "\n",
    "Install a variation of Python and Juptyer notebook, for example [Anaconda](https://www.anaconda.com/)\n",
    "\n",
    "You maybe able to run Python on the cloud for free or a fee on [Colab](https://colab.google/) \n",
    "\n",
    "## Practice\n",
    "\n",
    "Make a document with maths in Python and export the html.    "
   ]
  },
  {
   "cell_type": "code",
   "execution_count": 1,
   "id": "1d82b0e9",
   "metadata": {},
   "outputs": [
    {
     "name": "stdout",
     "output_type": "stream",
     "text": [
      "2025-09-28 23:58:32.882159\n"
     ]
    }
   ],
   "source": [
    "from datetime import datetime\n",
    "print(datetime.now())"
   ]
  },
  {
   "cell_type": "code",
   "execution_count": null,
   "id": "6db2b7c8",
   "metadata": {},
   "outputs": [],
   "source": []
  }
 ],
 "metadata": {
  "kernelspec": {
   "display_name": "Python 3",
   "language": "python",
   "name": "python3"
  },
  "language_info": {
   "codemirror_mode": {
    "name": "ipython",
    "version": 3
   },
   "file_extension": ".py",
   "mimetype": "text/x-python",
   "name": "python",
   "nbconvert_exporter": "python",
   "pygments_lexer": "ipython3",
   "version": "3.8.8"
  }
 },
 "nbformat": 4,
 "nbformat_minor": 5
}
