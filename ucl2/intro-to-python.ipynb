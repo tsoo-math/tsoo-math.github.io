{
 "cells": [
  {
   "cell_type": "markdown",
   "metadata": {},
   "source": [
    "#  Introduction to Python and Jupyter notebooks\n",
    "\n",
    "[Python](https://www.python.org/) is a general computing language that is very popular in the sciences and also in statistics.  Code along with maths are often elegantly presented using [Jupyter](https://jupyter.org/) notebooks, where one can use Markdown and Latex.  It is also possible to run R within Jupyter notebooks.  A key feature to keep in mind is that indented coding is required.\n",
    "\n",
    "\n",
    "Jupyter notebooks can be run online, and also locally.  An easy way to obtain Python and Juptyer is to use the [Anaconda](https://www.anaconda.com/products/individual) package.  \n"
   ]
  },
  {
   "cell_type": "markdown",
   "metadata": {},
   "source": [
    "#  Maths and Stats in Python\n",
    "\n",
    "Since Python is general computing language, you may need to install some packages, such as [Numpy](https://numpy.org/doc/stable/index.html) to do various basic operations that are available to you by default, in say R.  In what follows we illustrate some common useful operations.  In this module, we will only use *basic* packages, and we will do our *own* coding. "
   ]
  },
  {
   "cell_type": "code",
   "execution_count": 1,
   "metadata": {},
   "outputs": [
    {
     "name": "stdout",
     "output_type": "stream",
     "text": [
      "[5 7 9]\n",
      "[4 5 6 1 2 3]\n",
      "6\n",
      "1\n",
      "3\n",
      "6\n",
      "[0.         0.11111111 0.22222222 0.33333333 0.44444444 0.55555556\n",
      " 0.66666667 0.77777778 0.88888889 1.        ]\n"
     ]
    }
   ],
   "source": [
    "import numpy as np       #you may need to install this package\n",
    "\n",
    "y = np.array([1,2,3])     # to make vectors\n",
    "x = np.array([4,5,6])\n",
    "print(x+y)                \n",
    "z=np.concatenate((x,y))   # like the combine function in R\n",
    "print(z)\n",
    "print(len(z))             # length of a vector\n",
    "print(y[0])                # indexing starts at zero\n",
    "print(y[2])\n",
    "print(x[-1])               # last element of the vector\n",
    "\n",
    "t=np.linspace(0,1,num=10)\n",
    "print(t)"
   ]
  },
  {
   "cell_type": "code",
   "execution_count": 2,
   "metadata": {},
   "outputs": [
    {
     "data": {
      "image/png": "[encoded data removed]",
      "text/plain": [
       "<Figure size 432x288 with 1 Axes>"
      ]
     },
     "metadata": {
      "needs_background": "light"
     },
     "output_type": "display_data"
    }
   ],
   "source": [
    "import matplotlib.pyplot as plt  # In order to plot functions\n",
    "t=np.linspace(0,2,num=2000)\n",
    "y = pow(t, 2)\n",
    "plt.plot(t,y, label='Square')\n",
    "plt.plot(t,np.exp(t), label='Exp')\n",
    "plt.legend(loc='upper left')\n",
    "plt.show()\n",
    "\n"
   ]
  },
  {
   "cell_type": "markdown",
   "metadata": {},
   "source": [
    "## Simulating random variables in Python\n",
    "\n",
    "In what follows,  we simulate pseudo random numbers in  Python."
   ]
  },
  {
   "cell_type": "code",
   "execution_count": 3,
   "metadata": {},
   "outputs": [
    {
     "name": "stdout",
     "output_type": "stream",
     "text": [
      "0.7639152015372788\n",
      "0.5241284824517142\n",
      "[0.8577452281049696, 0.7002250732042746, 0.7679407345709673, 0.540571421185523, 0.6178957502185759, 0.6303587568984433, 0.44381978342373674, 0.07826520978324247, 0.0774643659498514, 0.5563360801325067]\n",
      "[-0.39788099950984124, 0.5932487482514452, 1.9559293930657926, 2.456239766112847, -0.9415710934995281, -0.3874814447265034, -0.5755147958585493, -0.8992606007545129, -0.7642800460358097, -0.3047355622740535]\n",
      "-0.24080569241323488\n",
      "[0 1]\n"
     ]
    }
   ],
   "source": [
    "u=np.random.random()  # calls a uniform [0,1]\n",
    "v=np.random.normal(0, 1)  # calls a standard normal\n",
    "\n",
    "print(u)\n",
    "print(v)\n",
    "\n",
    "u = [np.random.random() for _ in range(10)]  # calls 10 uniforms\n",
    "print(u)\n",
    "v = [ np.random.normal(0, 1) for _ in range(10)] # calls 10 standard normals\n",
    "print(v)\n",
    "\n",
    "\n",
    "\n",
    "v = np.random.standard_t(4)   # calls t-distribution with 4 degrees of freedom\n",
    "print(v)\n",
    "\n",
    "\n",
    "\n",
    "x = np.random.binomial(1, 0.3, 2) # calls two biased coin flips\n",
    "print(x)\n",
    "\n",
    "\n",
    "\n"
   ]
  },
  {
   "cell_type": "markdown",
   "metadata": {},
   "source": [
    "## Von Neumann's method of creating a fair toss, from a possibly biased coin of unknown parameter\n",
    "\n",
    "Suppose we are given a coin, with unknown parameter $p$, so that the probability that the outcome of a flip is *heads* is $p$ which is not necessary $\\tfrac{1}{2}$.   We want to generate a method of simulating a fair toss.  It is easy to verify that the following method works.  We toss the coin twice:\n",
    "\n",
    "* If we see HT, then we consider this as H;\n",
    "\n",
    "*  If we see TH, then we consider this T;\n",
    "\n",
    "*  If we see HH or TT, we lose, and we start all over, and have to toss the coin at least twice again.  \n",
    "\n",
    "The following code will illustrate the use a *function* and a *while* loop.\n"
   ]
  },
  {
   "cell_type": "code",
   "execution_count": 4,
   "metadata": {},
   "outputs": [
    {
     "name": "stdout",
     "output_type": "stream",
     "text": [
      "1\n"
     ]
    }
   ],
   "source": [
    "def vn(p):   \n",
    "    x=np.array([1,1])  # notice the indent the lack of brakcets   \n",
    "    num=np.sum(x)\n",
    "    while num==0 or num==2:     # notice the indent\n",
    "        x = np.random.binomial(1, p, 2)\n",
    "        num = np.sum(x)\n",
    "    return x[0]\n",
    "\n",
    "z= vn(0.3)\n",
    "print(z)\n",
    "\n",
    "\n"
   ]
  },
  {
   "cell_type": "markdown",
   "metadata": {},
   "source": [
    "We run some simple (but not complete) verfications to make sure the defined function does indeed give fair flip, when $p=0.2$."
   ]
  },
  {
   "cell_type": "code",
   "execution_count": 5,
   "metadata": {},
   "outputs": [
    {
     "name": "stdout",
     "output_type": "stream",
     "text": [
      "[0, 0, 1, 1, 0, 0, 1, 0, 0, 1]\n",
      "0.496\n",
      "0.4999839997439918\n"
     ]
    }
   ],
   "source": [
    "x = [vn(0.2)  for _ in range(10)]\n",
    "print(x)\n",
    "x = [vn(0.2)  for _ in range(1000)]\n",
    "print(np.mean(x))\n",
    "print(np.std(x))\n"
   ]
  },
  {
   "cell_type": "markdown",
   "metadata": {},
   "source": [
    "## Summing two independent uniforms\n",
    "\n",
    "We will run some simple code to *discover* the resulting distribution."
   ]
  },
  {
   "cell_type": "code",
   "execution_count": 6,
   "metadata": {},
   "outputs": [
    {
     "name": "stdout",
     "output_type": "stream",
     "text": [
      "[0.3050875231505201, 0.09758995594201147]\n",
      "[0.07175069206742335, 0.5286999259718799]\n",
      "[0.3050875231505201, 0.09758995594201147, 0.07175069206742335, 0.5286999259718799]\n"
     ]
    },
    {
     "data": {
      "image/png": "[encoded data removed]",
      "text/plain": [
       "<Figure size 432x288 with 1 Axes>"
      ]
     },
     "metadata": {
      "needs_background": "light"
     },
     "output_type": "display_data"
    }
   ],
   "source": [
    "x = [np.random.uniform() for _ in range(2)]\n",
    "y = [np.random.uniform() for _ in range(2)]\n",
    "print(x)\n",
    "print(y)\n",
    "z = x+y\n",
    "print(z)  # notice what happens\n",
    "\n",
    "x = np.array([np.random.uniform() for _ in range(10000)])\n",
    "y = np.array([np.random.uniform() for _ in range(10000)])\n",
    "z = x+y  #now we get component-wise addition\n",
    "\n",
    "plt.hist(z, bins = 50, density=True)  # this gives a probability histogram, rather than a frequency one.\n",
    "plt.show()"
   ]
  },
  {
   "cell_type": "markdown",
   "metadata": {},
   "source": [
    "## R inside Jupyter\n",
    "\n",
    "It is possible to use R with Jupyter notebooks.  See [this](https://tsoo-math.github.io/ucl2/R.ipynb) ipynb file.  It is a little harder to run both R and Python on the same notebook.  But it is possible.\n"
   ]
  },
  {
   "cell_type": "markdown",
   "metadata": {},
   "source": [
    "# Other resources\n",
    "\n",
    "\n",
    "*  [My introduction from 2020](https://tsoo-math.github.io/ucl/first.html)\n",
    "\n",
    "*  [Patrick Walls](https://www.math.ubc.ca/~pwalls/math-python/) site at UBC.\n",
    "\n",
    "\n",
    "\n",
    "*  [ipynb Source for this file](https://tsoo-math.github.io/ucl2/intro-to-python.ipynb)\n",
    "\n",
    "\n"
   ]
  },
  {
   "cell_type": "code",
   "execution_count": 7,
   "metadata": {},
   "outputs": [
    {
     "name": "stdout",
     "output_type": "stream",
     "text": [
      "2021-10-02 01:14:56.762181\n"
     ]
    }
   ],
   "source": [
    "from datetime import datetime\n",
    "print(datetime.now())"
   ]
  }
 ],
 "metadata": {
  "kernelspec": {
   "display_name": "Python 3",
   "language": "python",
   "name": "python3"
  },
  "language_info": {
   "codemirror_mode": {
    "name": "ipython",
    "version": 3
   },
   "file_extension": ".py",
   "mimetype": "text/x-python",
   "name": "python",
   "nbconvert_exporter": "python",
   "pygments_lexer": "ipython3",
   "version": "3.8.8"
  }
 },
 "nbformat": 4,
 "nbformat_minor": 4
}
