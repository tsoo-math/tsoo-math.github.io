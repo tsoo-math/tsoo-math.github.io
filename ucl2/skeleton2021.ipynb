{
 "cells": [
  {
   "cell_type": "markdown",
   "id": "7e146bdd",
   "metadata": {},
   "source": [
    "# Links for Stat9\n",
    "\n",
    "Fall 2021"
   ]
  },
  {
   "cell_type": "markdown",
   "id": "05369968",
   "metadata": {},
   "source": [
    "#  General links\n",
    "\n",
    "*  [Module Outline](https://nbviewer.jupyter.org/url/tsoo-math.github.io/ucl2/course-outline.ipynb/%3Fflush_cache%3Dtrue)\n",
    "*  [Schedule](https://tsoo-math.github.io/ucl2/schedule0009.html)\n",
    "*  [Live/In-person session information](https://tsoo-math.github.io/ucl2/live0009.html)\n",
    "*  [Homework](https://tsoo-math.github.io/ucl2/hw2021.html)\n",
    "*  [Recorded lectures on YouTube](https://tsoo-math.github.io/ucl2/YT.html)\n",
    "*  [Materials from Fall 2020](https://tsoo-math.github.io/ucl/skeleton.html)"
   ]
  },
  {
   "cell_type": "markdown",
   "id": "e9d73bad",
   "metadata": {},
   "source": [
    "# Lecture notes, by week\n",
    "\n",
    "## Week 6 \n",
    "\n",
    "*  [Introduction to R](https://tsoo-math.github.io/ucl/intro-R.html)\n",
    "*  [Introduction to Python](https://nbviewer.jupyter.org/url/tsoo-math.github.io/ucl2/intro-to-python.ipynb/%3Fflush_cache%3Dtrue)\n",
    "*  [Basic probability and statistics via R](https://tsoo-math.github.io/ucl/prob-viaR.html)"
   ]
  },
  {
   "cell_type": "markdown",
   "id": "aab57b84",
   "metadata": {},
   "source": [
    "# Endnotes \n",
    "\n",
    "Use the [ipynb source](https://tsoo-math.github.io/ucl2/skeleton2021.ipynb) for the most update version."
   ]
  },
  {
   "cell_type": "code",
   "execution_count": 1,
   "id": "0a24e8f5",
   "metadata": {},
   "outputs": [
    {
     "name": "stdout",
     "output_type": "stream",
     "text": [
      "2021-09-25 21:50:51.897771\n"
     ]
    }
   ],
   "source": [
    "from datetime import datetime\n",
    "print(datetime.now())"
   ]
  }
 ],
 "metadata": {
  "kernelspec": {
   "display_name": "Python 3",
   "language": "python",
   "name": "python3"
  },
  "language_info": {
   "codemirror_mode": {
    "name": "ipython",
    "version": 3
   },
   "file_extension": ".py",
   "mimetype": "text/x-python",
   "name": "python",
   "nbconvert_exporter": "python",
   "pygments_lexer": "ipython3",
   "version": "3.8.8"
  }
 },
 "nbformat": 4,
 "nbformat_minor": 5
}
