{
 "cells": [
  {
   "cell_type": "markdown",
   "id": "f65b6e32",
   "metadata": {},
   "source": [
    "# [Homework Week 7](https://tsoo-math.github.io/ucl2/2021-HW-week7.html)\n",
    "\n",
    "For complete written solutions, please [see](https://tsoo-math.github.io/ucl/QHW2-sol.html).  We will mainly be concerned with the Python code here, and Question 8."
   ]
  },
  {
   "cell_type": "markdown",
   "id": "a3e79372",
   "metadata": {},
   "source": [
    "## Poisson random variables"
   ]
  },
  {
   "cell_type": "code",
   "execution_count": 1,
   "id": "ac325e60",
   "metadata": {},
   "outputs": [
    {
     "name": "stdout",
     "output_type": "stream",
     "text": [
      "0.2381033055535443\n",
      "0.1693386176305406\n"
     ]
    }
   ],
   "source": [
    "import numpy as np\n",
    "\n",
    "\n",
    "def probpois(n, L):                # defines the probability mass function of a Poisson with mean L\n",
    "    p = np.exp(-L) * (L**n) / np.math.factorial(n)\n",
    "    return p\n",
    "\n",
    "def cumpois(n,L):\n",
    "    sum = 0\n",
    "    for i in range(n+1):\n",
    "        sum = sum + probpois(i,L)\n",
    "    return sum\n",
    "\n",
    "print(cumpois(2,4))\n",
    "print(np.random.uniform())"
   ]
  },
  {
   "cell_type": "code",
   "execution_count": 2,
   "id": "4284cb18",
   "metadata": {},
   "outputs": [
    {
     "name": "stdout",
     "output_type": "stream",
     "text": [
      "2.5799\n",
      "2.6970159899999997\n"
     ]
    }
   ],
   "source": [
    "def poisrv(L):\n",
    "    u = np.random.uniform()\n",
    "    m=-1\n",
    "    i=0\n",
    "    while m==-1:\n",
    "        if (u < cumpois(i,L)):\n",
    "            m=i\n",
    "        i = i+1\n",
    "    return m\n",
    "\n",
    "\n",
    "z = [poisrv(2.57)  for _ in range(10000)]  # generates 10000 Poisson random variables with mean 2.57\n",
    "print(np.mean(z))                          # basic checks, recall that the mean = variance for a Poisson\n",
    "print(np.std(z) **2)\n",
    "\n",
    "\n"
   ]
  },
  {
   "cell_type": "code",
   "execution_count": null,
   "id": "94c31594",
   "metadata": {},
   "outputs": [],
   "source": []
  },
  {
   "cell_type": "markdown",
   "id": "b57bb568",
   "metadata": {},
   "source": [
    "## Inverse transform method"
   ]
  },
  {
   "cell_type": "code",
   "execution_count": 3,
   "id": "e73df981",
   "metadata": {},
   "outputs": [
    {
     "data": {
      "image/png": "[encoded data removed]",
      "text/plain": [
       "<Figure size 432x288 with 1 Axes>"
      ]
     },
     "metadata": {
      "needs_background": "light"
     },
     "output_type": "display_data"
    }
   ],
   "source": [
    "def inverseT(y, L):\n",
    "    return -np.log(1-y) /L\n",
    "def exprv(L):\n",
    "    return inverseT(np.random.uniform(),L)\n",
    "\n",
    "z=  [exprv(2)  for _ in range(10000)]\n",
    "\n",
    "import matplotlib.pyplot as plt\n",
    "\n",
    "plt.hist(z, bins = 50, density=True, label='Proability Histogram') \n",
    "t=np.linspace(0,5,num=2000)\n",
    "plt.plot(t,2*np.exp(-2*t), label='Exact Density')\n",
    "plt.legend(loc='upper left')\n",
    "plt.show()"
   ]
  },
  {
   "cell_type": "markdown",
   "id": "6b70d364",
   "metadata": {},
   "source": [
    "## The value of $\\pi$"
   ]
  },
  {
   "cell_type": "code",
   "execution_count": 4,
   "id": "35f66aad",
   "metadata": {},
   "outputs": [
    {
     "name": "stdout",
     "output_type": "stream",
     "text": [
      "3.13868\n",
      "3.141592653589793\n"
     ]
    }
   ],
   "source": [
    "def pointtrack(N):\n",
    "    n=0\n",
    "    k=1\n",
    "    while(k < N+1):\n",
    "        x= 2*np.random.uniform()-1\n",
    "        y = 2*np.random.uniform()-1\n",
    "        if (x**2 + y**2 <1):\n",
    "            n=n+1\n",
    "        k = k+1\n",
    "    return n/N\n",
    "\n",
    "print(pointtrack(100000) * 4)\n",
    "print(np.math.pi)"
   ]
  },
  {
   "cell_type": "markdown",
   "id": "5ea4b0ef",
   "metadata": {},
   "source": [
    "## Acceptance/Rejection"
   ]
  },
  {
   "cell_type": "code",
   "execution_count": 5,
   "id": "7e7560c2",
   "metadata": {},
   "outputs": [
    {
     "data": {
      "image/png": "[encoded data removed]",
      "text/plain": [
       "<Figure size 432x288 with 1 Axes>"
      ]
     },
     "metadata": {
      "needs_background": "light"
     },
     "output_type": "display_data"
    }
   ],
   "source": [
    "def dposN(x):\n",
    "    return 2/ np.sqrt(2 * np.math.pi)   *  np.exp(-x**2 /2)\n",
    "\n",
    "def ar():\n",
    "    u = 2\n",
    "    w = 0\n",
    "    while(u > w):\n",
    "        u = np.random.uniform()\n",
    "        y = np.random.exponential()\n",
    "        w = dposN(y) / (2*np.exp(-y))\n",
    "        if (u <w):\n",
    "            break\n",
    "    return y\n",
    "\n",
    "def arfix():\n",
    "    return (2*np.random.binomial(1,0.5,1)-1)*ar()\n",
    "\n",
    "\n",
    "z=  [arfix()[0]  for _ in range(10000)]\n",
    "\n",
    "\n",
    "import matplotlib.pyplot as plt\n",
    "\n",
    "plt.hist(z, bins = 50, density=True, label='Proability Histogram') \n",
    "t=np.linspace(-5,5,num=2000)\n",
    "plt.plot(t,1/np.sqrt(2 * np.math.pi)*np.exp(-(t**2)/2), label='Exact Density')\n",
    "plt.legend(loc='upper left')\n",
    "plt.show()"
   ]
  },
  {
   "cell_type": "markdown",
   "id": "c542b953",
   "metadata": {},
   "source": [
    "## Simple card shuffling"
   ]
  },
  {
   "cell_type": "code",
   "execution_count": 6,
   "id": "16e6098b",
   "metadata": {},
   "outputs": [
    {
     "name": "stdout",
     "output_type": "stream",
     "text": [
      "[1, 2, 3, 4, 5, 6, 7, 8, 9, 10, 11, 12, 13, 14, 15, 16, 17, 18, 19, 20, 21, 22, 23, 24, 25, 26, 27, 28, 29, 30, 31, 32, 33, 34, 35, 36, 37, 38, 39, 40, 41, 42, 43, 44, 45, 46, 47, 48, 49, 50, 51, 52]\n",
      "52\n",
      "1\n",
      "[25, 27]\n",
      "[1, 2, 3, 4, 5, 6, 7, 8, 28, 10, 11, 12, 13, 14, 15, 16, 17, 18, 19, 20, 21, 22, 23, 24, 25, 26, 27, 9, 29, 30, 31, 32, 33, 34, 35, 36, 37, 38, 39, 40, 41, 42, 43, 44, 45, 46, 47, 48, 49, 50, 51, 52]\n"
     ]
    }
   ],
   "source": [
    "import random\n",
    "\n",
    "deck = list( range(1,53))\n",
    "print(deck)\n",
    "print(deck[51])\n",
    "print(deck[0])\n",
    "\n",
    "\n",
    "print (random.sample(range(1,53), 2) )\n",
    "\n",
    "\n",
    "\n",
    "def shuffle(x):\n",
    "    t=random.sample(range(1,53), 2)\n",
    "    a= t[0]\n",
    "    b= t[1]\n",
    "    da = x[a-1]\n",
    "    db = x[b-1]\n",
    "    x[a-1]=db\n",
    "    x[b-1]=da\n",
    "    return x\n",
    "\n",
    "print (shuffle(deck))\n",
    "    \n",
    "    "
   ]
  },
  {
   "cell_type": "markdown",
   "id": "95f5b4c0",
   "metadata": {},
   "source": [
    "## The arrow of time\n",
    "\n",
    "A stationary distribution is given by taking the (discrete) uniform distribution $\\pi$ on the states $1, \\ldots, 15$.  Let $P$ be the transition matrix.  We can readily check the required property; for example for $ 1 < i< 14$, we have\n",
    "\n",
    "$$ (\\pi P)_i = \\pi_{i-1} (0.9) + \\pi_{i+1}(0.1) = \\tfrac{0.9}{15} + \\tfrac{0.1}{15} = \\tfrac{1}{15} = \\pi_i.$$\n",
    "\n",
    "This Markov chain is clearly not reversible; if we were to draw the  Markov chain on  a circle, it obviously tends to  move in one direction.  Using a version of the  previous exercise on reversibilty, towards a contradiction, we easily see that if there exists a reversible probability distribution $\\rho$, then if the Markov chain is started with distribution $\\rho$, we have \n",
    "\n",
    "$$\\mathbb{P}(X_0 = 1, X_1=2, X_2=3, \\ldots, X_{14}=15, X_{15}=1) = \\mathbb{P}(X_0=1, X_2=15, X_2=14, \\ldots, X_{15}=1);$$\n",
    "\n",
    "this equation clearly does *not* hold.  The left hand side is \n",
    "$$\\rho_1 (0.9)^{15}$$\n",
    "and the right hand side is\n",
    "$$\\rho_1 (0.1)^{15}.$$\n",
    "Thus $\\rho_1=0$ and a similar argument applies in more generality to show that $\\rho_i=0$, which is absurd, since $\\rho$ was assumed to be a probability measure."
   ]
  },
  {
   "cell_type": "markdown",
   "id": "d0bd813a",
   "metadata": {},
   "source": [
    "## Endnotes\n",
    "\n",
    "Use the ipynb [source](https://tsoo-math.github.io/ucl2/2021-hw-week7.ipynb) for the most update version."
   ]
  },
  {
   "cell_type": "code",
   "execution_count": 7,
   "id": "c5df0845",
   "metadata": {},
   "outputs": [
    {
     "name": "stdout",
     "output_type": "stream",
     "text": [
      "2021-10-15 00:44:18.192541\n"
     ]
    }
   ],
   "source": [
    "from datetime import datetime\n",
    "print(datetime.now())"
   ]
  },
  {
   "cell_type": "code",
   "execution_count": null,
   "id": "2bd8c65d",
   "metadata": {},
   "outputs": [],
   "source": []
  },
  {
   "cell_type": "code",
   "execution_count": null,
   "id": "2a6dfb02",
   "metadata": {},
   "outputs": [],
   "source": []
  },
  {
   "cell_type": "code",
   "execution_count": null,
   "id": "910d9db9",
   "metadata": {},
   "outputs": [],
   "source": []
  },
  {
   "cell_type": "code",
   "execution_count": null,
   "id": "eee3b14a",
   "metadata": {},
   "outputs": [],
   "source": []
  }
 ],
 "metadata": {
  "kernelspec": {
   "display_name": "Python 3",
   "language": "python",
   "name": "python3"
  },
  "language_info": {
   "codemirror_mode": {
    "name": "ipython",
    "version": 3
   },
   "file_extension": ".py",
   "mimetype": "text/x-python",
   "name": "python",
   "nbconvert_exporter": "python",
   "pygments_lexer": "ipython3",
   "version": "3.8.8"
  }
 },
 "nbformat": 4,
 "nbformat_minor": 5
}
