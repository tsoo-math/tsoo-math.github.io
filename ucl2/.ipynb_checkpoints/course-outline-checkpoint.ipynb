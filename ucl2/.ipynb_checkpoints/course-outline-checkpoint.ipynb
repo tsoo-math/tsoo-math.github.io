{
 "cells": [
  {
   "cell_type": "markdown",
   "id": "cf9aaa84",
   "metadata": {},
   "source": [
    "# Stochastic systems module outline \n",
    " [Terry Soo](https://terrysoo.com) \n",
    "\n",
    " Fall 2021\n",
    " \n",
    " [Link to Fall 2022](https://tsoo-math.github.io/ucl3/skeleton-stat9-2022.html) "
   ]
  },
  {
   "cell_type": "markdown",
   "id": "94f1facd",
   "metadata": {},
   "source": [
    "# Where and when\n",
    "\n",
    "This module has a face-to-face in-person [live](https://tsoo-math.github.io/ucl2/live0009.html) session running [Mondays 14:00 - 16:00](https://timetable.ucl.ac.uk/tt/moduleTimet.do?firstReq=Y&moduleId=STAT0009)\n",
    "\n",
    "Please pay attention to UCL's [Covid-19](https://www.ucl.ac.uk/coronavirus/) policies, and advice on face coverings.\n"
   ]
  },
  {
   "cell_type": "markdown",
   "id": "194434b2",
   "metadata": {},
   "source": [
    "# Prerequistes\n",
    "\n",
    "This module will assume some experience with the basics of probability and statistics, and Markov chains from UCL Stat0007.  We will make extensive use the software program R  and Python.  No prior experience with Python will be assumed.\n"
   ]
  },
  {
   "cell_type": "markdown",
   "id": "37710ccf",
   "metadata": {},
   "source": [
    "# Aims and objectives\n",
    "\n",
    "Our module follows up our study of random processes from Stat 0007. We will study various flavours of Markov processes and point processes and their applications to queueing theory and modelling. We also study other related topics, time permitting.\n",
    "\n",
    "\n",
    "By the end of this module students should have a firm foundation and understanding of various stochastic processes for further study and application. Students will be able to use toy models to explain and understanding various random behvaviour in the world, and be confident doing  programming for probability and statistics in R or Python.  "
   ]
  },
  {
   "cell_type": "markdown",
   "id": "444318d4",
   "metadata": {},
   "source": [
    "# Course content\n",
    "\n",
    "- Quick review of probability and statistics from the perspective of R and Python.\n",
    "\n",
    "- Markov chains: convergence to stationarity, Doeblin coupling, coupling from the past, Markov chain Monte Carlo.\n",
    "\n",
    "- Point process: Poisson processes, spatial Poisson point processes, Continuous-time Markov chains, semi-Markov processes.\n",
    "\n",
    "- Renewel theory: renewal theorems, Little’s theorem.\n",
    "\n",
    "- Queues: stationary distributions, blow-up, waiting times.\n",
    "\n",
    "- Additional topics."
   ]
  },
  {
   "cell_type": "markdown",
   "id": "9dfa96af",
   "metadata": {},
   "source": [
    "# Formal assessments \n",
    "\n",
    "We will have 3 ICAs. Pay no attention to the ordering of ICA 2 and ICA 3.\n",
    "\n",
    "The first ICA (30 %) will be a regular assignment given around the middle of the term to make sure we have learned the basics.\n",
    "\n",
    "The third ICA (30 %) will be centered around more involved problems that will require a synthesis of ideas from throughout the module. This may be done in groups. Due in 2022\n",
    "\n",
    "The second ICA (40 %) will be a group project based using the knowledge learned throughout the course. Due in 2022. Some examples include:\n",
    "\n",
    "- construct toy models to explain and model random behaviour in our world;\n",
    "- critically examine evaluate theoretical and practical models that have been proposed;\n",
    "- other suitable student proposed projects are also possible.\n",
    "\n",
    "The ICAs will have a coding component that would need to be done in R or Python.   Assignments are to be typeset, in a favour of Markdown/Latex, using RMarkdown or Juptyer notebook. "
   ]
  },
  {
   "cell_type": "markdown",
   "id": "fc706275",
   "metadata": {},
   "source": [
    "# Informal assessments and feedback\n",
    "\n",
    "Throughout the module students will have the chance to work on various exercises that will test and build their understanding of the material."
   ]
  },
  {
   "cell_type": "markdown",
   "id": "5a37c3ef",
   "metadata": {},
   "source": [
    "# Module delivery\n",
    "\n",
    "- Pre-recorded lectures, made available online.\n",
    "- Lecture notes and slides made available online\n",
    "- Live in-person workshops that go over material in more detail.\n",
    "- Live in-person lectures.\n",
    "\n",
    "Depending on the covid situation, in-person activities may have to be online. As per UCL guidance, on accessibility, most materials will be provided in html format.  Source files will usually be made available, and it is possible to generate pdf files from these source files; another way to generate pdf is to as a print-as-pdf option."
   ]
  },
  {
   "cell_type": "markdown",
   "id": "09b9033a",
   "metadata": {},
   "source": [
    "#  Additional resources\n",
    "\n",
    "All of the teaching materials from [Fall 2020](https://tsoo-math.github.io/ucl/skeleton.html) are already avialable online; this includes, lecture notes and videos.  \n",
    "In Fall 2020, we only used R, and did not use Python.  We will supplement these materials with Python code and other additional topics. "
   ]
  },
  {
   "cell_type": "code",
   "execution_count": null,
   "id": "759e6e81",
   "metadata": {},
   "outputs": [],
   "source": []
  }
 ],
 "metadata": {
  "kernelspec": {
   "display_name": "Python 3",
   "language": "python",
   "name": "python3"
  },
  "language_info": {
   "codemirror_mode": {
    "name": "ipython",
    "version": 3
   },
   "file_extension": ".py",
   "mimetype": "text/x-python",
   "name": "python",
   "nbconvert_exporter": "python",
   "pygments_lexer": "ipython3",
   "version": "3.8.8"
  }
 },
 "nbformat": 4,
 "nbformat_minor": 5
}
