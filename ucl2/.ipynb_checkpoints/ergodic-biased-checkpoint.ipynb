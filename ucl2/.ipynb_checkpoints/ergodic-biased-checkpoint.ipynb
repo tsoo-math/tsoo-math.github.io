{
 "cells": [
  {
   "cell_type": "markdown",
   "id": "e34f4fbd",
   "metadata": {},
   "source": [
    "## Practice with Python\n",
    "\n",
    "### Mixture of iid\n",
    "\n",
    "Let $X=(X_i)_{i \\in \\mathbb{N}}$ and $Y = (Y_i)_{i \\in \\mathbb{N}}$.  Suppose that $X$ and $Y$ are independent sequences; furthermore, suppose that $X$ is an i.i.d. sequence of random variables, and that $Y$ is an i.i.d. sequence of random variables.    Let $C$ be a single Bernoulli random variable with parameter $p \\in (0,1)$, that is also independent of $(X,Y)$.  Consider the sequence of random variables $Z$ given by setting $Z_i =X_i$ if $C=1$ and $Z_i = Y_i$ if $C=0$.  \n",
    "\n",
    "*  Consider the specific case where $X_1$ is uniformly distributed in $[0,1]$ and $Y_1$ is a standard normal and $p=\\tfrac{1}{2}$.   What is  $\\mathbb{E} Z_1$?\n",
    "*  Plot the pdf of $Z_1$.\n",
    "*  Simulate the $(Z_i)_{i=1} ^{10000}$ and take the sample mean.\n",
    "*  Does your answer agree with what you *might* expect from the law of large numbers?  Explain."
   ]
  },
  {
   "cell_type": "markdown",
   "id": "2b983e2c",
   "metadata": {},
   "source": [
    "### Biased estimators\n",
    "\n",
    "Let $X=(X_1, \\ldots, X_n)$ be a random sample from the continuous uniform distribution on $[0, \\theta]$ where $\\theta >0$ is unknown.  \n",
    "\n",
    "*  Consider the estimator given by $T=\\max(X)$. Find the distribution of $T$.\n",
    "*  What is the mean of $T$?\n",
    "*  Adjust $T$ to give an unbiased estimator.\n",
    "*  Fix $n=5$.  Demonstrate by simulations that $T$ is biased."
   ]
  },
  {
   "cell_type": "markdown",
   "id": "2cfefbe1",
   "metadata": {},
   "source": [
    "## Endnotes\n",
    "\n",
    "Use the ipynb [source](https://tsoo-math.github.io/ucl2/ergodic-biased.ipynb) for the most update version."
   ]
  },
  {
   "cell_type": "code",
   "execution_count": 1,
   "id": "6266a7f0",
   "metadata": {},
   "outputs": [
    {
     "name": "stdout",
     "output_type": "stream",
     "text": [
      "2021-10-10 21:22:41.854099\n"
     ]
    }
   ],
   "source": [
    "from datetime import datetime\n",
    "print(datetime.now())"
   ]
  },
  {
   "cell_type": "code",
   "execution_count": null,
   "id": "b30970ff",
   "metadata": {},
   "outputs": [],
   "source": []
  }
 ],
 "metadata": {
  "kernelspec": {
   "display_name": "Python 3",
   "language": "python",
   "name": "python3"
  },
  "language_info": {
   "codemirror_mode": {
    "name": "ipython",
    "version": 3
   },
   "file_extension": ".py",
   "mimetype": "text/x-python",
   "name": "python",
   "nbconvert_exporter": "python",
   "pygments_lexer": "ipython3",
   "version": "3.8.8"
  }
 },
 "nbformat": 4,
 "nbformat_minor": 5
}
