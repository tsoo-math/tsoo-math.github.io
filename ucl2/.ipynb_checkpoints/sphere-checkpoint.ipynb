{
 "cells": [
  {
   "cell_type": "markdown",
   "id": "e34f4fbd",
   "metadata": {},
   "source": [
    "# Generating uniform points on a sphere\n",
    "\n",
    "In this exercise, we will generate a point that is uniformly distributed on the *surface* of a three dimensional sphere.\n",
    "\n",
    "*  Let $X$, $Y$, and $Z$ be independent standard normal variables.  Show that for any rotation of the sphere, $\\theta$, we have that $\\theta(X,Y,Z)$ has the same distribution as $(X,Y,Z)$.  Hint:  use the [power](https://www.youtube.com/watch?v=3yfYetkMLPM) of linear algebra.\n",
    "\n",
    "*  It is true that there is only one distribution on the sphere that is rotationally-invariant.  Using this fact, and the previous exercise, show that the random variable \n",
    "$$ U = \\frac{(X,Y,Z)}{\\sqrt{X^2 + Y^2 + Z^2}}$$\n",
    "is uniformly distributed on the unit sphere.\n",
    "\n",
    "*  Code it and code a Poisson point process on the sphere of intensity $4$."
   ]
  },
  {
   "cell_type": "markdown",
   "id": "2b983e2c",
   "metadata": {},
   "source": []
  },
  {
   "cell_type": "markdown",
   "id": "2cfefbe1",
   "metadata": {},
   "source": [
    "## Endnotes\n",
    "\n",
    "Use the ipynb [source](https://tsoo-math.github.io/ucl2/sphere.ipynb) for the most update version."
   ]
  },
  {
   "cell_type": "code",
   "execution_count": 1,
   "id": "6266a7f0",
   "metadata": {},
   "outputs": [
    {
     "name": "stdout",
     "output_type": "stream",
     "text": [
      "2021-10-10 21:22:41.854099\n"
     ]
    }
   ],
   "source": [
    "from datetime import datetime\n",
    "print(datetime.now())"
   ]
  },
  {
   "cell_type": "code",
   "execution_count": null,
   "id": "b30970ff",
   "metadata": {},
   "outputs": [],
   "source": []
  }
 ],
 "metadata": {
  "kernelspec": {
   "display_name": "Python 3",
   "language": "python",
   "name": "python3"
  },
  "language_info": {
   "codemirror_mode": {
    "name": "ipython",
    "version": 3
   },
   "file_extension": ".py",
   "mimetype": "text/x-python",
   "name": "python",
   "nbconvert_exporter": "python",
   "pygments_lexer": "ipython3",
   "version": "3.8.8"
  }
 },
 "nbformat": 4,
 "nbformat_minor": 5
}
