{
 "cells": [
  {
   "cell_type": "markdown",
   "id": "7e146bdd",
   "metadata": {},
   "source": [
    "# Links for Stat9\n",
    "\n",
    "Fall 2021"
   ]
  },
  {
   "cell_type": "markdown",
   "id": "05369968",
   "metadata": {},
   "source": [
    "#  General links\n",
    "\n",
    "*  [Module Outline](https://nbviewer.jupyter.org/url/tsoo-math.github.io/ucl2/course-outline.ipynb/%3Fflush_cache%3Dtrue)\n",
    "*  [Schedule](https://tsoo-math.github.io/ucl2/schedule0009.html)\n",
    "*  [Live/In-person session information](https://tsoo-math.github.io/ucl2/live0009.html)\n",
    "*  [Homework](https://tsoo-math.github.io/ucl2/hw2021.html)\n",
    "*  [Recorded lectures on YouTube](https://tsoo-math.github.io/ucl2/YT.html)\n",
    "*  [Materials from Fall 2020](https://tsoo-math.github.io/ucl/skeleton.html)"
   ]
  },
  {
   "cell_type": "markdown",
   "id": "e9d73bad",
   "metadata": {},
   "source": [
    "# Lecture notes, by week\n",
    "\n",
    "## Week 6 \n",
    "\n",
    "*  [Introduction to R](https://tsoo-math.github.io/ucl/intro-R.html)\n",
    "*  [Introduction to Python](https://nbviewer.jupyter.org/url/tsoo-math.github.io/ucl2/intro-to-python.ipynb/%3Fflush_cache%3Dtrue)\n",
    "*  [Basic probability and statistics via R](https://tsoo-math.github.io/ucl/prob-viaR.html)\n",
    "*  Watch videos: Introduction to R and Probability via R\n",
    "\n",
    "## Week 7\n",
    "\n",
    "*  [Random variables: theory and practice](https://tsoo-math.github.io/ucl/randomTP.html)\n",
    "*  [Coupling and total variational distance](https://tsoo-math.github.io/ucl/TV-lec.html)\n",
    "*  [You always knew coupling](https://tsoo-math.github.io/ucl/coupling-rev.html)\n",
    "*  [Review of MC](https://tsoo-math.github.io/ucl/reviewMC.html)\n",
    "*  Watch videos:  Random variables: theory and practice; Coupling and total variational distance; Review of Markov chains."
   ]
  },
  {
   "cell_type": "markdown",
   "id": "e193a2d0",
   "metadata": {},
   "source": [
    "## Week 8\n",
    "\n",
    "*  [Making Markov chains converge](https://tsoo-math.github.io/ucl/markov-c.html)\n",
    "*  [Coupling from the past](https://tsoo-math.github.io/ucl/coupling-from-past-lec.html)\n",
    "*  Watch videos:  Making Markov chains converge; Coupling from the past"
   ]
  },
  {
   "cell_type": "markdown",
   "id": "39245b35",
   "metadata": {},
   "source": [
    "## Week 9\n",
    "\n",
    "*  [Poisson processes](https://tsoo-math.github.io/ucl/poisson.html)\n",
    "*  [Poisson processes, worked exercises](https://tsoo-math.github.io/ucl/poisson-ex.worked.html)\n",
    "*  Watch videos: Poisson processes"
   ]
  },
  {
   "cell_type": "markdown",
   "id": "188ec7cc",
   "metadata": {},
   "source": [
    "## Week 10\n",
    "\n",
    "*  [Continuous-time Markov chains](https://tsoo-math.github.io/ucl/continuous-timeMC.html)\n",
    "*  Watch videos:  Continuous-time Markov chains\n",
    "*  [ICA 1](https://tsoo-math.github.io/ucl2/2021-ica1-stat9-release.html)"
   ]
  },
  {
   "cell_type": "markdown",
   "id": "828fc25c",
   "metadata": {},
   "source": [
    "## Week 12\n",
    "\n",
    "* [Introduction to renewal theory](https://tsoo-math.github.io/ucl/intro-renewal.html)\n",
    "* Watch videos:  Introduction to renewal theory (2 videos)\n",
    "* ICA 1 due "
   ]
  },
  {
   "cell_type": "markdown",
   "id": "5286c56e",
   "metadata": {},
   "source": [
    "## Week 13\n",
    "\n",
    "* [Introduction to renewal theory II](https://tsoo-math.github.io/ucl/intro-renewaltwo.html)\n",
    "* [Introduction to renewal theory III](https://tsoo-math.github.io/ucl/intro-renewalthree.html)\n",
    "*  Watch the rest of the renewal theory videos (5 +2)\n",
    "\n"
   ]
  },
  {
   "cell_type": "markdown",
   "id": "aab57b84",
   "metadata": {},
   "source": [
    "# Endnotes \n",
    "\n",
    "Use the [ipynb source](https://tsoo-math.github.io/ucl2/skeleton2021.ipynb) for the most update version."
   ]
  },
  {
   "cell_type": "code",
   "execution_count": 1,
   "id": "0a24e8f5",
   "metadata": {},
   "outputs": [
    {
     "name": "stdout",
     "output_type": "stream",
     "text": [
      "2021-11-13 00:50:14.138075\n"
     ]
    }
   ],
   "source": [
    "from datetime import datetime\n",
    "print(datetime.now())"
   ]
  }
 ],
 "metadata": {
  "kernelspec": {
   "display_name": "Python 3",
   "language": "python",
   "name": "python3"
  },
  "language_info": {
   "codemirror_mode": {
    "name": "ipython",
    "version": 3
   },
   "file_extension": ".py",
   "mimetype": "text/x-python",
   "name": "python",
   "nbconvert_exporter": "python",
   "pygments_lexer": "ipython3",
   "version": "3.8.8"
  }
 },
 "nbformat": 4,
 "nbformat_minor": 5
}
