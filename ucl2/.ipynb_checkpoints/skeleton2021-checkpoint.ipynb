{
 "cells": [
  {
   "cell_type": "markdown",
   "id": "3aba46da",
   "metadata": {},
   "source": [
    "# Links for Stat9\n",
    "\n",
    "Fall 2021"
   ]
  },
  {
   "cell_type": "markdown",
   "id": "17439938",
   "metadata": {},
   "source": [
    "#  General links\n",
    "\n",
    "*  Module Outline\n",
    "*  Schedule\n",
    "*  Live/In-person session information\n",
    "*  Homework\n",
    "*  Recorded lectures on YouTube"
   ]
  }
 ],
 "metadata": {
  "kernelspec": {
   "display_name": "Python 3",
   "language": "python",
   "name": "python3"
  },
  "language_info": {
   "codemirror_mode": {
    "name": "ipython",
    "version": 3
   },
   "file_extension": ".py",
   "mimetype": "text/x-python",
   "name": "python",
   "nbconvert_exporter": "python",
   "pygments_lexer": "ipython3",
   "version": "3.8.8"
  }
 },
 "nbformat": 4,
 "nbformat_minor": 5
}
