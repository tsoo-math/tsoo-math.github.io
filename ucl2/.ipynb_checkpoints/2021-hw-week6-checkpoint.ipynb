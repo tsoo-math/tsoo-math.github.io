{
 "cells": [
  {
   "cell_type": "markdown",
   "id": "f65b6e32",
   "metadata": {},
   "source": [
    "# [Homework Week 6](https://tsoo-math.github.io/ucl2/2021-HW-week6.html)\n",
    "\n",
    "For complete written solutions, please [see](https://tsoo-math.github.io/ucl2/2021-HW-week6.html).  We will mainly be concerned with the Python code here."
   ]
  },
  {
   "cell_type": "markdown",
   "id": "a3e79372",
   "metadata": {},
   "source": [
    "## Integration"
   ]
  },
  {
   "cell_type": "code",
   "execution_count": 2,
   "id": "ac325e60",
   "metadata": {},
   "outputs": [
    {
     "name": "stdout",
     "output_type": "stream",
     "text": [
      "0.4968664504953792\n"
     ]
    }
   ],
   "source": [
    "import numpy as np\n",
    "\n",
    "def g(x):                            # defines the function g\n",
    "    y=np.power(x,2) * np.sin(x)\n",
    "    return y \n",
    "\n",
    "z = np.random.exponential(scale=1.0, size=10000)   # simulates 10000 iid exp\n",
    "integralapprox = np.average(g(z))        # approximation using the law of large numbers\n",
    "print(integralapprox)\n",
    "    "
   ]
  },
  {
   "cell_type": "markdown",
   "id": "b57bb568",
   "metadata": {},
   "source": [
    "## Grouping coins"
   ]
  },
  {
   "cell_type": "code",
   "execution_count": 24,
   "id": "e73df981",
   "metadata": {},
   "outputs": [
    {
     "name": "stdout",
     "output_type": "stream",
     "text": [
      "0.4749\n"
     ]
    }
   ],
   "source": [
    "def isFour(x):  # function which checks if the binary sequence has a run of four heads\n",
    "    ans =0\n",
    "    for i in range(len(x) +1-4 ):\n",
    "        if (x[i]==1 and x[i+1]==1 and x[i+2]==1 and x[i+3]==1):\n",
    "            ans=1\n",
    "    return ans\n",
    "\n",
    "def check():   # checking if a single random binary sequence of length 20 has a run of four heads\n",
    "    binseq = np.random.binomial(1, 0.5, 20)\n",
    "    return isFour(binseq)\n",
    "\n",
    "num = [check()  for _ in range(10000)]  # run the check function 10000 times\n",
    "print(np.average(num))"
   ]
  },
  {
   "cell_type": "markdown",
   "id": "6b70d364",
   "metadata": {},
   "source": [
    "## Pen and paper"
   ]
  },
  {
   "cell_type": "code",
   "execution_count": 31,
   "id": "35f66aad",
   "metadata": {},
   "outputs": [
    {
     "name": "stdout",
     "output_type": "stream",
     "text": [
      "2.71494\n"
     ]
    }
   ],
   "source": [
    "def T():\n",
    "    s=0\n",
    "    n=0\n",
    "    while s<1:\n",
    "        s = s + np.random.uniform()\n",
    "        n=n+1\n",
    "    return n\n",
    "\n",
    "num = [T()  for _ in range(100000)]\n",
    "print(np.average(num)) "
   ]
  },
  {
   "cell_type": "code",
   "execution_count": null,
   "id": "ea2f3b51",
   "metadata": {},
   "outputs": [],
   "source": []
  }
 ],
 "metadata": {
  "kernelspec": {
   "display_name": "Python 3",
   "language": "python",
   "name": "python3"
  },
  "language_info": {
   "codemirror_mode": {
    "name": "ipython",
    "version": 3
   },
   "file_extension": ".py",
   "mimetype": "text/x-python",
   "name": "python",
   "nbconvert_exporter": "python",
   "pygments_lexer": "ipython3",
   "version": "3.8.8"
  }
 },
 "nbformat": 4,
 "nbformat_minor": 5
}
