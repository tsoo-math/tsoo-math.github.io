{
 "cells": [
  {
   "cell_type": "markdown",
   "id": "f65b6e32",
   "metadata": {},
   "source": [
    "# [Homework Week 10](https://tsoo-math.github.io/ucl/QHW5.html)\n",
    "\n",
    "For complete written solutions, please [see](https://tsoo-math.github.io/ucl/QHW5-sols.html).  We will mainly be concerned with the Python code here."
   ]
  },
  {
   "cell_type": "markdown",
   "id": "1199b1d1",
   "metadata": {},
   "source": [
    "## Q Matrices"
   ]
  },
  {
   "cell_type": "code",
   "execution_count": 62,
   "id": "700f83dd",
   "metadata": {},
   "outputs": [
    {
     "name": "stdout",
     "output_type": "stream",
     "text": [
      "[[-6  3  3]\n",
      " [ 2 -3  1]\n",
      " [ 2  7 -9]]\n",
      "[ 1.77635684e-15 -8.00000000e+00 -1.00000000e+01]\n",
      "######################\n",
      "[[-3.74765844e-01 -4.08248290e-01 -1.91206752e-16]\n",
      " [-8.99438027e-01  8.16496581e-01 -7.07106781e-01]\n",
      " [-2.24859507e-01 -4.08248290e-01  7.07106781e-01]]\n",
      "######################\n",
      "[-0.37476584 -0.89943803 -0.22485951]\n",
      "######################\n",
      "######################\n",
      "stationary distribution obtained\n",
      "[0.25 0.6  0.15]\n",
      "######################\n",
      "######################\n"
     ]
    }
   ],
   "source": [
    "import numpy as np\n",
    "\n",
    "q1 = np.array([-6,3,3])\n",
    "q2 = np.array([2,-3,1])\n",
    "q3 = np.array([2,7,-9])\n",
    "\n",
    "\n",
    "\n",
    "Q = np.array([q1, q2, q3])\n",
    "print(Q)\n",
    "Qt = Q.transpose()\n",
    "\n",
    "eigen = np.linalg.eig(Qt)\n",
    "print(eigen[0])  # values   \n",
    "print(\"######################\")\n",
    "print(eigen[1])  # eigenvectors as columns\n",
    "\n",
    "# you need to identify which is the eigenvector \n",
    "# corresponds to the zero eigenvector\n",
    "\n",
    "print(\"######################\")\n",
    "\n",
    "eigen = eigen[1]\n",
    "\n",
    "v = eigen[:,0]\n",
    "\n",
    "print(v)\n",
    "\n",
    "\n",
    "print(\"######################\")\n",
    "\n",
    "print(\"######################\")\n",
    "\n",
    "stat = v/np.sum(v)\n",
    "\n",
    "np.sum(stat)\n",
    "\n",
    "\n",
    "print(\"stationary distribution obtained\")\n",
    "\n",
    "print(stat)   # stationary distribution obtained\n",
    "\n",
    "\n",
    "print(\"######################\")\n",
    "\n",
    "print(\"######################\")\n",
    "\n",
    "\n",
    "\n"
   ]
  },
  {
   "cell_type": "markdown",
   "id": "09003ea9",
   "metadata": {},
   "source": [
    "We code one jump of the chain, using the competing clocks description.  Depending on your indexing, state $i$ is actually is stored as state $i-1$ in Python. "
   ]
  },
  {
   "cell_type": "code",
   "execution_count": 83,
   "id": "a03c0b3a",
   "metadata": {},
   "outputs": [],
   "source": [
    "def jump(i):   # one jump starting at state i (which should be inputed as i-1)\n",
    "    q = Q[i]  \n",
    "    clocks = np.array([np.inf, np.inf, np.inf]) # intialize to infinity\n",
    "    index = np.array([0,1,2])  \n",
    "    index = np.delete(index,i)\n",
    "    clocks[index[0]] = np.random.exponential(scale = 1/q[index[0]] )\n",
    "    clocks[index[1]] = np.random.exponential(scale = 1/q[index[1]] )\n",
    "    j = np.argmin(clocks) # which location is the least\n",
    "    time = clocks[j]\n",
    "    return j, time  #if you put in np.array you might get type errors later\n",
    "\n",
    "\n"
   ]
  },
  {
   "cell_type": "markdown",
   "id": "cd282eca",
   "metadata": {},
   "source": [
    "Now we code a chain running for time $t$, starting at state $i$, by applying a while loop on the *jump* function. The function returns the state of the Markov chain at time t."
   ]
  },
  {
   "cell_type": "code",
   "execution_count": 88,
   "id": "7f1fa3a1",
   "metadata": {},
   "outputs": [
    {
     "name": "stdout",
     "output_type": "stream",
     "text": [
      "0\n"
     ]
    }
   ],
   "source": [
    "def runMC(i,t):\n",
    "    totaltime =0      \n",
    "    while(totaltime <t ):\n",
    "        new = jump(i)\n",
    "        totaltime = totaltime + new[1]\n",
    "        if (totaltime <t):\n",
    "            i = new[0]\n",
    "    return i\n"
   ]
  },
  {
   "cell_type": "markdown",
   "id": "2997ba08",
   "metadata": {},
   "source": [
    "Now we run the chain for a long time $t=150$, and run this experiment $n=500$ times, and record the number of times we are in each state; our covergence theory says when we divide by $500$ we should get something close to the stationary distribution.  Starting at state $1$, means starting at $0$ in this code."
   ]
  },
  {
   "cell_type": "code",
   "execution_count": 93,
   "id": "0cfee020",
   "metadata": {},
   "outputs": [
    {
     "name": "stdout",
     "output_type": "stream",
     "text": [
      "0.0\n",
      "-0.008000000000000007\n",
      "0.008000000000000063\n"
     ]
    }
   ],
   "source": [
    "y = [runMC(0, 150) for _ in range(500)  ]\n",
    "\n",
    "freq = np.unique(y,return_counts = True)\n",
    "\n",
    "state1 = (1/500)*freq[1][0]\n",
    "state2 = (1/500)*freq[1][1]\n",
    "state3 = (1/500)*freq[1][2]\n",
    "\n",
    "print(state1-stat[0])\n",
    "print(state2-stat[1])\n",
    "print(state3-stat[2])"
   ]
  },
  {
   "cell_type": "markdown",
   "id": "d0bd813a",
   "metadata": {},
   "source": [
    "## Endnotes\n",
    "\n",
    "Use the ipynb [source](https://tsoo-math.github.io/ucl2/2021-hw-week10.ipynb) for the most update version."
   ]
  },
  {
   "cell_type": "code",
   "execution_count": 53,
   "id": "c5df0845",
   "metadata": {},
   "outputs": [
    {
     "name": "stdout",
     "output_type": "stream",
     "text": [
      "2021-11-08 18:12:50.090767\n"
     ]
    }
   ],
   "source": [
    "from datetime import datetime\n",
    "print(datetime.now())"
   ]
  },
  {
   "cell_type": "code",
   "execution_count": null,
   "id": "2bd8c65d",
   "metadata": {},
   "outputs": [],
   "source": []
  },
  {
   "cell_type": "code",
   "execution_count": null,
   "id": "055f234e",
   "metadata": {},
   "outputs": [],
   "source": []
  },
  {
   "cell_type": "code",
   "execution_count": null,
   "id": "312a6b19",
   "metadata": {},
   "outputs": [],
   "source": []
  }
 ],
 "metadata": {
  "kernelspec": {
   "display_name": "Python 3",
   "language": "python",
   "name": "python3"
  },
  "language_info": {
   "codemirror_mode": {
    "name": "ipython",
    "version": 3
   },
   "file_extension": ".py",
   "mimetype": "text/x-python",
   "name": "python",
   "nbconvert_exporter": "python",
   "pygments_lexer": "ipython3",
   "version": "3.8.8"
  }
 },
 "nbformat": 4,
 "nbformat_minor": 5
}
