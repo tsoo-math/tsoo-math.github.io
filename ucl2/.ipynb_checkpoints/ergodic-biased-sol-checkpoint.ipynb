{
 "cells": [
  {
   "cell_type": "markdown",
   "id": "e34f4fbd",
   "metadata": {},
   "source": [
    "## Practice with Python\n",
    "\n",
    "### Mixture of iid\n",
    "\n",
    "Let $X=(X_i)_{i \\in \\mathbb{N}}$ and $Y = (Y_i)_{i \\in \\mathbb{N}}$.  Suppose that $X$ and $Y$ are independent sequences; furthermore, suppose that $X$ is an i.i.d. sequence of random variables, and that $Y$ is an i.i.d. sequence of random variables.    Let $C$ be a single Bernoulli random variable with parameter $p \\in (0,1)$, that is also independent of $(X,Y)$.  Consider the sequence of random variables $Z$ given by setting $Z_i =X_i$ if $C=1$ and $Z_i = Y_i$ if $C=0$.  \n",
    "\n",
    "*  Consider the specific case where $X_1$ is uniformly distributed in $[0,1]$ and $Y_1$ is a standard normal and $p=\\tfrac{1}{2}$.   What is  $\\mathbb{E} Z_1$?\n",
    "*  Plot the pdf of $Z_1$.\n",
    "*  Simulate the $(Z_i)_{i=1} ^{10000}$ and take the sample mean.\n",
    "*  Does your answer agree with what you *might* expect from the law of large numbers?  Explain."
   ]
  },
  {
   "cell_type": "markdown",
   "id": "6585a154",
   "metadata": {},
   "source": [
    "### Brief solutions\n",
    "\n",
    "*  We have that $$Z_1 = X_1\\mathbf{1}[C=1] +Y_1\\mathbf{1}[C=0];$$\n",
    "taking expectations on both sides gives\n",
    "$$ \\mathbb{E}(Z_1) = \\frac{\\mathbb{E}(X_1)}{2} +  \\frac{\\mathbb{E}(Y_1)}{2} = \\frac{1}{4}.$$ \n",
    "*  The key thing to note is that the sequence $Z$ is not iid; it behaves as $X$ or $Y$ with probability $\\tfrac{1}{2}$ and only conditional on $C$ can it be viewed as an iid sequence.  The law of large numbers does not give the mean of $Z_1$, but gives either the mean of $X_1$ or $Y_1$, and not *both*.   The simulations below illustrate this observation."
   ]
  },
  {
   "cell_type": "code",
   "execution_count": 1,
   "id": "f35442c5",
   "metadata": {},
   "outputs": [
    {
     "name": "stdout",
     "output_type": "stream",
     "text": [
      "0.24599864816456393\n",
      "-0.019568417665083947\n",
      "0.49644404007320225\n",
      "-0.0061573604939177545\n",
      "0.00927888358440402\n"
     ]
    },
    {
     "data": {
      "image/png": "[encoded data removed]",
      "text/plain": [
       "<Figure size 432x288 with 1 Axes>"
      ]
     },
     "metadata": {
      "needs_background": "light"
     },
     "output_type": "display_data"
    }
   ],
   "source": [
    "import numpy as np\n",
    "\n",
    "def zee():\n",
    "    c = np.random.binomial(1,0.5,1)\n",
    "    if (c==1):\n",
    "        z = np.random.uniform()\n",
    "    else:\n",
    "        z = np.random.normal()\n",
    "    return z\n",
    "\n",
    "z=  [zee()  for _ in range(10000)]   #this is not what the sequence is though; this is an independent version!\n",
    "print( np.mean(z))\n",
    "import matplotlib.pyplot as plt\n",
    "plt.hist(z, bins = 50, density=True, label='Proability Histogram') # the density looks like this, it is not hard to compute by hand\n",
    "\n",
    "def czee(n):\n",
    "    c = np.random.binomial(1,0.5,1)\n",
    "    if (c==1):\n",
    "        z = [np.random.uniform() for _ in range(10000)]\n",
    "    else:\n",
    "        z = [np.random.normal() for _ in range(10000)]\n",
    "    return z\n",
    "   \n",
    "print( np.mean(czee(10000)))\n",
    "print( np.mean(czee(10000)))\n",
    "print( np.mean(czee(10000)))\n",
    "print( np.mean(czee(10000)))"
   ]
  },
  {
   "cell_type": "markdown",
   "id": "2b983e2c",
   "metadata": {},
   "source": [
    "### Biased estimators\n",
    "\n",
    "Let $X=(X_1, \\ldots, X_n)$ be a random sample from the continuous uniform distribution on $[0, \\theta]$ where $\\theta >0$ is unknown.  \n",
    "\n",
    "*  Consider the estimator given by $T=\\max(X)$. Find the distribution of $T$.\n",
    "*  What is the mean of $T$?\n",
    "*  Adjust $T$ to give an unbiased estimator.\n",
    "*  Fix $n=5$.   Demonstrate by simulations that $T$ is biased."
   ]
  },
  {
   "cell_type": "markdown",
   "id": "439b33bc",
   "metadata": {},
   "source": [
    "### Brief solutions"
   ]
  },
  {
   "cell_type": "markdown",
   "id": "31ecbc2b",
   "metadata": {},
   "source": [
    "*  An routine calculation gives that $\\mathbb{E} (T) = \\frac{n}{n+1}$, and we see that it under estimates $\\theta$.  This is easily adjusted \n",
    "$$T' = \\frac{n+1}{n} T.$$\n",
    "*  In order to demonstrate that $T$ is biased, we simulate $T$ a large number of times, and find that average is *not* $\\theta$.  We will fix $\\theta=1$."
   ]
  },
  {
   "cell_type": "code",
   "execution_count": 2,
   "id": "030cb8ec",
   "metadata": {},
   "outputs": [
    {
     "name": "stdout",
     "output_type": "stream",
     "text": [
      "0.8349406842445888\n",
      "0.8333333333333334\n"
     ]
    }
   ],
   "source": [
    "def tee():\n",
    "    x = [np.random.uniform() for _ in range(5)]\n",
    "    m= max(x)\n",
    "    return m\n",
    "\n",
    "M= [tee()  for _ in range(10000)]\n",
    "print(np.mean(M))\n",
    "print( 5/6)"
   ]
  },
  {
   "cell_type": "markdown",
   "id": "2cfefbe1",
   "metadata": {},
   "source": [
    "## Endnotes\n",
    "\n",
    "Use the ipynb [source](https://tsoo-math.github.io/ucl2/ergodic-biased-sol.ipynb) for the most update version."
   ]
  },
  {
   "cell_type": "code",
   "execution_count": 3,
   "id": "6266a7f0",
   "metadata": {},
   "outputs": [
    {
     "name": "stdout",
     "output_type": "stream",
     "text": [
      "2021-10-13 23:55:47.084192\n"
     ]
    }
   ],
   "source": [
    "from datetime import datetime\n",
    "print(datetime.now())"
   ]
  },
  {
   "cell_type": "code",
   "execution_count": null,
   "id": "b30970ff",
   "metadata": {},
   "outputs": [],
   "source": []
  }
 ],
 "metadata": {
  "kernelspec": {
   "display_name": "Python 3",
   "language": "python",
   "name": "python3"
  },
  "language_info": {
   "codemirror_mode": {
    "name": "ipython",
    "version": 3
   },
   "file_extension": ".py",
   "mimetype": "text/x-python",
   "name": "python",
   "nbconvert_exporter": "python",
   "pygments_lexer": "ipython3",
   "version": "3.8.8"
  }
 },
 "nbformat": 4,
 "nbformat_minor": 5
}
