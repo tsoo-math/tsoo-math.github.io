{
 "cells": [
  {
   "cell_type": "markdown",
   "metadata": {},
   "source": [
    "#  Introduction to Python\n",
    "\n",
    "[Python](https://www.python.org/) is a general computing language that is very popular in the sciences and also in statistics.  \n",
    "\n",
    "\n",
    "This is my first time using [Jupyter](https://jupyter.org/) and coding in [Python](https://www.python.org/).  Jupyter notebook appears to be a possible alternative to RStudio and allows one to also code in R and other languages.  We can use type text as Markdown and also use Latex.\n",
    "\n"
   ]
  },
  {
   "cell_type": "markdown",
   "metadata": {},
   "source": [
    "#  Euler's method\n",
    "\n",
    "Recall that in the movie [Hidden Figures](https://www.youtube.com/watch?v=v-pbGAts_Fg), the *ancient* method is used to solve an important problem at NASA.\n",
    "\n",
    "We are concerned with giving a numerical solution the initial-value problem (IVP) given by\n",
    "\\begin{equation*}\n",
    "y' = f(t,y)  \\text{ and }  y(t_0) = y_0.\n",
    "\\end{equation*}\n",
    "\n",
    "Suppose we are looking for a  solution $y$ to the IVP.  We know that $y(t_0) = y_0$, but we can also approximate using tangent lines for $t_1$ near $t_0$ so that\n",
    "$$ y(t_1)  \\approx y_1:=   y(t_0) + y'(t_0) (t_1 - t_0)  =  y_0 +  f(t_0, y_0) (t_1-t_0).$$\n",
    "Now, if we want another $t_2$ near $t_1$, we can repeat the same reasoning to obtain\n",
    "$$y(t_2) \\approx  y_2 :=  y_1+  f(t_1, y_1) (t_2-t_1);$$\n",
    "in general for the times $t_0 < t_1 < t_2 < \\cdots < t_n < \\cdots t_N$, we obtain the iteration:\n",
    "$$ y_{n+1} = y_n + f(t_n, y_n)(t_{n+1} - t_n).$$\n",
    "Typically, one might choose a uniform mesh size, $h = y_{i+1} - y_i$, where $h$ is small.    Consider the function $\\phi$ given by interpolating the points $y_0, y_1, \\ldots, y_n$ linearly.   The claim is the function $\\phi$ approximates a solution to the  initial value problem, under some regularity condition, and as the mesh size $h$ decreases the function $\\phi$ will converge to a solution of the initial value problem.    The issue here is that each time we make an approximation $y_n$ it is based on $y_{n-1}$ which is itself an approximation, one needs to make sure these errors do not add up too fast, and get out of hand.\n",
    "\n",
    "We will now introduce enough basic Python to code Euler's method, to solve the initial value problem $y' = y$ with $y(0) = 1$ on the interval $[0,1]$ and as a result approximate the value of $e$.  \n",
    "\n",
    "Our code will illustrate some mathematical operations in Python using the *numpy* package, and also the use of a *while* loop.\n",
    "  \n",
    "\n"
   ]
  },
  {
   "cell_type": "code",
   "execution_count": 12,
   "metadata": {},
   "outputs": [
    {
     "name": "stdout",
     "output_type": "stream",
     "text": [
      "[5 7 9]\n",
      "[4 5 6 1 2 3]\n",
      "6\n",
      "1\n",
      "3\n",
      "6\n",
      "[0.         0.11111111 0.22222222 0.33333333 0.44444444 0.55555556\n",
      " 0.66666667 0.77777778 0.88888889 1.        ]\n"
     ]
    }
   ],
   "source": [
    "import numpy as np       #you may need to install this package\n",
    "\n",
    "y = np.array([1,2,3])     # to make vectors\n",
    "x = np.array([4,5,6])\n",
    "print(x+y)                \n",
    "z=np.concatenate((x,y))   # like the combine function in R\n",
    "print(z)\n",
    "print(len(z))             # length of a vector\n",
    "print(y[0])                # indexing starts at zero\n",
    "print(y[2])\n",
    "print(x[-1])               # last element of the vector\n",
    "\n",
    "t=np.linspace(0,1,num=10)\n",
    "print(t)"
   ]
  },
  {
   "cell_type": "code",
   "execution_count": 43,
   "metadata": {},
   "outputs": [
    {
     "name": "stdout",
     "output_type": "stream",
     "text": [
      "2.716923932235896\n"
     ]
    }
   ],
   "source": [
    "y=np.array([1])\n",
    "while  len(y) < 2000:\n",
    "    y = np.concatenate( (y, np.array(   [y[-1] + y[-1]*(0.001)])  )  )\n",
    "\n",
    "print(y[1000])\n"
   ]
  },
  {
   "cell_type": "code",
   "execution_count": 46,
   "metadata": {},
   "outputs": [
    {
     "data": {
      "image/png": "[encoded data removed]",
      "text/plain": [
       "<Figure size 432x288 with 1 Axes>"
      ]
     },
     "metadata": {
      "needs_background": "light"
     },
     "output_type": "display_data"
    }
   ],
   "source": [
    "\n",
    "import matplotlib.pyplot as plt  # In order to plot functions\n",
    "t=np.linspace(0,2,num=2000)\n",
    "plt.plot(t,y, label='Euler')\n",
    "plt.plot(t,np.exp(t), label='Exact')\n",
    "plt.legend(loc='upper left')\n",
    "plt.show()\n",
    "\n"
   ]
  },
  {
   "cell_type": "markdown",
   "metadata": {},
   "source": [
    "# Probability and statistics in Python\n",
    "\n",
    "In theory, we should be able to write equivalent code that we produced to illustrate various stochastic systems.    Here, we will start with  an illustration of the concept of a confidence interval.  \n"
   ]
  },
  {
   "cell_type": "code",
   "execution_count": 66,
   "metadata": {},
   "outputs": [
    {
     "name": "stdout",
     "output_type": "stream",
     "text": [
      "0.19768217651259534\n",
      "-1.9517789513707928\n",
      "[0.9183395020144753, 0.4988994663679698, 0.8888760452852505, 0.1297218183809703, 0.48296625368357216, 0.49372536885857865, 0.8872642446627372, 0.24422556953717245, 0.27335359472209897, 0.23490544209051867]\n",
      "[-1.338058384596201, -0.1020209562937567, -1.6521257717272606, -0.8914962216577567, -0.6080566755569897, 1.7738299694945714, -0.11026085185984179, 0.19614841628371482, 1.3072723200316096, -0.4804580512355239]\n",
      "-0.5901707727220016\n"
     ]
    }
   ],
   "source": [
    "import random\n",
    "\n",
    "u=random.random()  # calls a uniform [0,1]\n",
    "v=random.gauss(0, 1)  # calls a standard normal\n",
    "\n",
    "print(u)\n",
    "print(v)\n",
    "u = [random.random() for _ in range(10)]  # calls 10 uniforms\n",
    "print(u)\n",
    "v = [ random.gauss(0, 1) for _ in range(10)] # calls 10 standard normals\n",
    "print(v)\n",
    "\n",
    "v = np.random.standard_t(4)   # calls t-distribution with 4 degrees of freedom\n",
    "print(v)"
   ]
  },
  {
   "cell_type": "markdown",
   "metadata": {},
   "source": [
    "The following code will illustrate the concept of what exactly does $90$ percent refer to in a $t$-distribution based confidence interval.  We consider the case, where we have a sample of five independent normal random variables, where *both* the mean and variance are unknown. With the standard notation, we have  $\\alpha=0.1$, $n=5$, and $n-1=4$;  the\n",
    "critical value is given by  $t(0.05,4)=2.132$.  Given a random sample $x= (x_1, \\ldots, x_5)$,  we know that the confidence interval is given by\n",
    "\n",
    "$$ \\bar{x} \\pm 2.132 \\cdot \\frac{s(x)}{ \\sqrt{5}}.$$\n",
    "\n",
    "The true mean either lies in this interval or not;  once we are given $x$, in the classical sense,  there is no probability involved.  However, if we repeat this experiment many times, roughly $90$ percent of those confidence intervals will contain the true mean.   We will illustrate this by sampling from standard normals, repeatedly, so that $0$ will be contained in $90$ percent of the confidence intervals.  \n",
    "\n",
    "The code will illustrate the use a *function* and a *for loop*.  \n"
   ]
  },
  {
   "cell_type": "code",
   "execution_count": 87,
   "metadata": {},
   "outputs": [
    {
     "name": "stdout",
     "output_type": "stream",
     "text": [
      "0.895\n"
     ]
    }
   ],
   "source": [
    "import statistics as s\n",
    "\n",
    "def CI(x):\n",
    "    l= s.mean(x) - 2.132 * ( s.stdev(x)/math.sqrt(5) )\n",
    "    u= s.mean(x) + 2.132 * ( s.stdev(x)/math.sqrt(5) )\n",
    "    n=0\n",
    "    if l <0 & 0 < u: \n",
    "        n=1\n",
    "    return n;\n",
    "\n",
    "def experiment(n):\n",
    "    num=0\n",
    "    for i in range(n):\n",
    "        v = [ random.gauss(0, 1) for _ in range(5)]\n",
    "        num = num + CI(v)\n",
    "    return num/n    \n",
    "\n",
    "print(experiment(1000))\n",
    "\n"
   ]
  },
  {
   "cell_type": "markdown",
   "metadata": {},
   "source": [
    "# Other resources\n",
    "\n",
    "*  [Patrick Walls](https://www.math.ubc.ca/~pwalls/math-python/) site at UBC.\n",
    "\n",
    "\n",
    "\n",
    "*  [ipynb Source for this file](https://tsoo-math.github.io/ucl/first.ipynb)\n",
    "\n",
    "\n"
   ]
  },
  {
   "cell_type": "code",
   "execution_count": 92,
   "metadata": {},
   "outputs": [
    {
     "name": "stdout",
     "output_type": "stream",
     "text": [
      "2020-12-09 15:31:46.855253\n"
     ]
    }
   ],
   "source": [
    "from datetime import datetime\n",
    "print(datetime.now())"
   ]
  }
 ],
 "metadata": {
  "kernelspec": {
   "display_name": "Python 3",
   "language": "python",
   "name": "python3"
  },
  "language_info": {
   "codemirror_mode": {
    "name": "ipython",
    "version": 3
   },
   "file_extension": ".py",
   "mimetype": "text/x-python",
   "name": "python",
   "nbconvert_exporter": "python",
   "pygments_lexer": "ipython3",
   "version": "3.8.8"
  }
 },
 "nbformat": 4,
 "nbformat_minor": 4
}
