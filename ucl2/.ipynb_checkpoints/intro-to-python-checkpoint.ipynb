{
 "cells": [
  {
   "cell_type": "markdown",
   "metadata": {},
   "source": [
    "#  Introduction to Python and Jupyter notebooks\n",
    "\n",
    "[Python](https://www.python.org/) is a general computing language that is very popular in the sciences and also in statistics.  Code along with maths are often elegantly presented using [Jupyter](https://jupyter.org/) notebooks, where one can use Markdown and Latex.  It is also possible to run R within Jupyter notebooks.  A key feature to keep in mind is that indented coding is required.\n",
    "\n",
    "\n",
    "Jupyter notebooks can be run online, and also locally.  An easy way to obtain Python and Juptyer is to use the [Anaconda](https://www.anaconda.com/products/individual) package.  \n"
   ]
  },
  {
   "cell_type": "markdown",
   "metadata": {},
   "source": [
    "#  Maths and Stats in Python\n",
    "\n",
    "Since Python is general computing language, you may need to install some packages, such as [Numpy](https://numpy.org/doc/stable/index.html) to do various basic operations that are available to you by default, in say R.  In what follows we illustrate some common useful operations.  In this module, we will only use *basic* packages, and we will do our *own* coding. "
   ]
  },
  {
   "cell_type": "code",
   "execution_count": 1,
   "metadata": {},
   "outputs": [
    {
     "name": "stdout",
     "output_type": "stream",
     "text": [
      "[5 7 9]\n",
      "[4 5 6 1 2 3]\n",
      "6\n",
      "1\n",
      "3\n",
      "6\n",
      "[0.         0.11111111 0.22222222 0.33333333 0.44444444 0.55555556\n",
      " 0.66666667 0.77777778 0.88888889 1.        ]\n"
     ]
    }
   ],
   "source": [
    "import numpy as np       #you may need to install this package\n",
    "\n",
    "y = np.array([1,2,3])     # to make vectors\n",
    "x = np.array([4,5,6])\n",
    "print(x+y)                \n",
    "z=np.concatenate((x,y))   # like the combine function in R\n",
    "print(z)\n",
    "print(len(z))             # length of a vector\n",
    "print(y[0])                # indexing starts at zero\n",
    "print(y[2])\n",
    "print(x[-1])               # last element of the vector\n",
    "\n",
    "t=np.linspace(0,1,num=10)\n",
    "print(t)"
   ]
  },
  {
   "cell_type": "code",
   "execution_count": 2,
   "metadata": {},
   "outputs": [
    {
     "data": {
      "image/png": "[encoded data removed]",
      "text/plain": [
       "<Figure size 432x288 with 1 Axes>"
      ]
     },
     "metadata": {
      "needs_background": "light"
     },
     "output_type": "display_data"
    }
   ],
   "source": [
    "import matplotlib.pyplot as plt  # In order to plot functions\n",
    "t=np.linspace(0,2,num=2000)\n",
    "y = pow(t, 2)\n",
    "plt.plot(t,y, label='Square')\n",
    "plt.plot(t,np.exp(t), label='Exp')\n",
    "plt.legend(loc='upper left')\n",
    "plt.show()\n",
    "\n"
   ]
  },
  {
   "cell_type": "markdown",
   "metadata": {},
   "source": [
    "## Simulating random variables in Python\n",
    "\n",
    "In what follows,  we simulate pseudo random numbers in  Python."
   ]
  },
  {
   "cell_type": "code",
   "execution_count": 3,
   "metadata": {},
   "outputs": [
    {
     "name": "stdout",
     "output_type": "stream",
     "text": [
      "0.00902484914325774\n",
      "0.39742155037066224\n",
      "[0.39968561659357205, 0.1721792669725133, 0.8745872652332308, 0.9180911492868798, 0.5836661013910509, 0.202075226898198, 0.7964624428928313, 0.3479538860343343, 0.9189859074147644, 0.3629494220192574]\n",
      "[0.0005643958080362122, 1.5405422998778762, 0.8447936443584495, -0.7275624982701488, -0.5309164395825337, -0.6194723436931358, 0.4078602600993965, 0.2818006231699961, 0.6123420688090158, 0.3459948828068686]\n",
      "1.0925255579580477\n",
      "[1 0]\n"
     ]
    }
   ],
   "source": [
    "u=np.random.random()  # calls a uniform [0,1]\n",
    "v=np.random.normal(0, 1)  # calls a standard normal\n",
    "\n",
    "print(u)\n",
    "print(v)\n",
    "\n",
    "u = [np.random.random() for _ in range(10)]  # calls 10 uniforms\n",
    "print(u)\n",
    "v = [ np.random.normal(0, 1) for _ in range(10)] # calls 10 standard normals\n",
    "print(v)\n",
    "\n",
    "\n",
    "\n",
    "v = np.random.standard_t(4)   # calls t-distribution with 4 degrees of freedom\n",
    "print(v)\n",
    "\n",
    "\n",
    "\n",
    "x = np.random.binomial(1, 0.3, 2) # calls two biased coin flips\n",
    "print(x)\n",
    "\n",
    "\n",
    "\n"
   ]
  },
  {
   "cell_type": "markdown",
   "metadata": {},
   "source": [
    "## Von Neumann's method of creating a fair toss, from a possibly biased coin of unknown parameter\n",
    "\n",
    "Suppose we are given a coin, with unknown parameter $p$, so that the probability that the outcome of a flip is *heads* is $p$ which is not necessary $\\tfrac{1}{2}$.   We want to generate a method of simulating a fair toss.  It is easy to verify that the following method works.  We toss the coin twice:\n",
    "\n",
    "* If we see HT, then we consider this as H;\n",
    "\n",
    "*  If we see TH, then we consider this T;\n",
    "\n",
    "*  If we see HH or TT, we lose, and we start all over, and have to toss the coin at least twice again.  \n",
    "\n",
    "The following code will illustrate the use a *function* and a *while* loop.\n"
   ]
  },
  {
   "cell_type": "code",
   "execution_count": 4,
   "metadata": {},
   "outputs": [
    {
     "name": "stdout",
     "output_type": "stream",
     "text": [
      "1\n"
     ]
    }
   ],
   "source": [
    "def vn(p):   \n",
    "    x=np.array([1,1])  # notice the indent the lack of brakcets   \n",
    "    num=np.sum(x)\n",
    "    while num==0 or num==2:     # notice the indent\n",
    "        x = np.random.binomial(1, p, 2)\n",
    "        num = np.sum(x)\n",
    "    return x[0]\n",
    "\n",
    "z= vn(0.3)\n",
    "print(z)\n",
    "\n",
    "\n"
   ]
  },
  {
   "cell_type": "markdown",
   "metadata": {},
   "source": [
    "We run some simple (but not complete) verfications to make sure the defined function does indeed give fair flip, when $p=0.2$."
   ]
  },
  {
   "cell_type": "code",
   "execution_count": 5,
   "metadata": {},
   "outputs": [
    {
     "name": "stdout",
     "output_type": "stream",
     "text": [
      "[1, 1, 1, 0, 0, 0, 1, 0, 1, 1]\n",
      "0.504\n",
      "0.4999839997439918\n"
     ]
    }
   ],
   "source": [
    "x = [vn(0.2)  for _ in range(10)]\n",
    "print(x)\n",
    "x = [vn(0.2)  for _ in range(1000)]\n",
    "print(np.mean(x))\n",
    "print(np.std(x))\n"
   ]
  },
  {
   "cell_type": "markdown",
   "metadata": {},
   "source": [
    "## Summing two independent uniforms\n",
    "\n",
    "We will run some simple code to *discover* the resulting distribution."
   ]
  },
  {
   "cell_type": "code",
   "execution_count": 6,
   "metadata": {},
   "outputs": [
    {
     "name": "stdout",
     "output_type": "stream",
     "text": [
      "[0.20419081170479758, 0.5008273418359356]\n",
      "[0.6109642087968662, 0.16039928442436047]\n",
      "[0.20419081170479758, 0.5008273418359356, 0.6109642087968662, 0.16039928442436047]\n"
     ]
    },
    {
     "data": {
      "image/png": "[encoded data removed]",
      "text/plain": [
       "<Figure size 432x288 with 1 Axes>"
      ]
     },
     "metadata": {
      "needs_background": "light"
     },
     "output_type": "display_data"
    }
   ],
   "source": [
    "x = [np.random.uniform() for _ in range(2)]\n",
    "y = [np.random.uniform() for _ in range(2)]\n",
    "print(x)\n",
    "print(y)\n",
    "z = x+y\n",
    "print(z)  # notice what happens\n",
    "\n",
    "x = np.array([np.random.uniform() for _ in range(10000)])\n",
    "y = np.array([np.random.uniform() for _ in range(10000)])\n",
    "z = x+y  #now we get component-wise addition\n",
    "\n",
    "plt.hist(z, bins = 50, density=True)  # this gives a probability histogram, rather than a frequency one.\n",
    "plt.show()"
   ]
  },
  {
   "cell_type": "markdown",
   "metadata": {},
   "source": [
    "# Other resources\n",
    "\n",
    "\n",
    "*  [My introduction from 2020](https://tsoo-math.github.io/ucl/first.html)\n",
    "\n",
    "*  [Patrick Walls](https://www.math.ubc.ca/~pwalls/math-python/) site at UBC.\n",
    "\n",
    "\n",
    "\n",
    "*  [ipynb Source for this file](https://tsoo-math.github.io/ucl2/intro-to-python.ipynb)\n",
    "\n",
    "\n"
   ]
  },
  {
   "cell_type": "code",
   "execution_count": 7,
   "metadata": {},
   "outputs": [
    {
     "name": "stdout",
     "output_type": "stream",
     "text": [
      "2021-10-02 00:33:24.023887\n"
     ]
    }
   ],
   "source": [
    "from datetime import datetime\n",
    "print(datetime.now())"
   ]
  }
 ],
 "metadata": {
  "kernelspec": {
   "display_name": "Python 3",
   "language": "python",
   "name": "python3"
  },
  "language_info": {
   "codemirror_mode": {
    "name": "ipython",
    "version": 3
   },
   "file_extension": ".py",
   "mimetype": "text/x-python",
   "name": "python",
   "nbconvert_exporter": "python",
   "pygments_lexer": "ipython3",
   "version": "3.8.8"
  }
 },
 "nbformat": 4,
 "nbformat_minor": 4
}
